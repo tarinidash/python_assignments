{
 "cells": [
  {
   "cell_type": "code",
   "execution_count": 2,
   "metadata": {},
   "outputs": [
    {
     "data": {
      "image/png": "[encoded data removed]",
      "text/plain": [
       "<Figure size 432x288 with 2 Axes>"
      ]
     },
     "metadata": {
      "needs_background": "light"
     },
     "output_type": "display_data"
    }
   ],
   "source": [
    "# =============================================================================\n",
    "# Assignment: 11\n",
    "# Filename: question1.py\n",
    "# Description: matplotlib assignments\n",
    "# Date: 04/04/2020\n",
    "# Author: Tarini Dash\n",
    "# =============================================================================\n",
    "\n",
    "\n",
    "import pandas as pd\n",
    "import math\n",
    "import matplotlib.pyplot as plt\n",
    "\n",
    "\n",
    "def read(file_location):\n",
    "    file = pd.ExcelFile(file_location)\n",
    "    return file.parse(\"HeightsWeights\")\n",
    "    \n",
    "\n",
    "def main():\n",
    "    fig = plt.figure()\n",
    "    sp1 = fig.add_subplot(1,2,1)\n",
    "    sp2 = fig.add_subplot(1,2,2)\n",
    "    \n",
    "    #read from excel\n",
    "    df = read(\"children.xlsx\")\n",
    "\n",
    "    sp1.hist(df.Height,bins=16,density=True,color='blue')\n",
    "    sp1.set_xticklabels([62,64,66,68,70,72,74])\n",
    "    sp1.set_yticklabels([0,5,10,15,20,25,30])\n",
    "    sp1.set_xlabel('Heights')\n",
    "    sp1.set_ylabel('Number of Students')\n",
    "    sp1.set_title('Histogram of Heights')\n",
    "\n",
    "\n",
    "    sp2.hist(df.Weight, bins=16,density=True, color='orange')\n",
    "#     sp2.set_xticklabels([100,110,120,130,140,150,160])\n",
    "    sp2.set_yticklabels([0,5,10,15,20,25,30,35])\n",
    "    sp2.set_xlabel('Weights')\n",
    "    sp2.set_ylabel('Number of Students')\n",
    "    sp2.set_title('Histogram of Weights')\n",
    "\n",
    "    fig.tight_layout()\n",
    "\n",
    "\n",
    "    \n",
    "#invoke main method\n",
    "if __name__ == \"__main__\":\n",
    "    main()"
   ]
  },
  {
   "cell_type": "code",
   "execution_count": null,
   "metadata": {},
   "outputs": [],
   "source": []
  }
 ],
 "metadata": {
  "kernelspec": {
   "display_name": "Python 3",
   "language": "python",
   "name": "python3"
  },
  "language_info": {
   "codemirror_mode": {
    "name": "ipython",
    "version": 3
   },
   "file_extension": ".py",
   "mimetype": "text/x-python",
   "name": "python",
   "nbconvert_exporter": "python",
   "pygments_lexer": "ipython3",
   "version": "3.7.6"
  }
 },
 "nbformat": 4,
 "nbformat_minor": 4
}
