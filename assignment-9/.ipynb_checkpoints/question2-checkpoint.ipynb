{
 "cells": [
  {
   "cell_type": "code",
   "execution_count": 34,
   "metadata": {},
   "outputs": [
    {
     "name": "stdout",
     "output_type": "stream",
     "text": [
      "[[49647.     17.1    29.3     8.8     5.7     8.2    13.4]\n",
      " [49865.     18.9    28.4    10.      9.3     9.5    11. ]\n",
      " [88260.     20.     27.8     9.5     4.4     6.7    12. ]\n",
      " [73216.     18.7    29.3     9.      7.5     9.8     9.8]\n",
      " [62539.     18.5    29.      8.8     5.9     9.5     7.4]\n",
      " [38180.      3.3    29.6    10.      7.7    12.      7.8]\n",
      " [75682.     15.7    27.9    10.      9.     11.7    13.2]\n",
      " [53903.     13.3    29.2    10.2     7.9     7.3     9.3]\n",
      " [19860.     15.     29.4     9.8     7.1    11.7    10.5]\n",
      " [40080.     18.7    29.6     9.3     7.9    11.      7.5]\n",
      " [85987.     10.2    28.9     9.      5.      2.8     9.4]\n",
      " [99792.     16.3    29.1     8.5     6.      6.      7.6]\n",
      " [92695.     20.     29.6     8.8     5.      5.5    12.2]\n",
      " [99656.     16.3    29.     10.      7.6     7.3    11.9]\n",
      " [69228.     19.2    29.4     9.8     7.6    10.7    14.6]\n",
      " [37728.     18.3    29.1     8.5     5.8    11.2    13.4]\n",
      " [45564.     16.5    29.2    10.      7.6     9.7    14.1]\n",
      " [93279.     19.3    29.2     9.8     6.6     7.     10.8]\n",
      " [60921.     10.3    27.3     9.5     6.      8.7    12.2]\n",
      " [68176.     16.5    29.3     9.8     6.4     8.      4.6]\n",
      " [71930.     16.4    29.9     8.5     5.8     6.3     9.4]\n",
      " [98110.     19.9    29.2    10.2     8.2    10.5    14. ]\n",
      " [58332.     19.4    29.2     9.5     5.9    10.5    13.2]\n",
      " [38015.     18.5    28.6    10.      7.7     8.7    13.4]\n",
      " [20430.     19.6    29.7     8.8     8.6    10.7    12.8]\n",
      " [31286.     20.     27.4     0.      7.5    12.     11.4]\n",
      " [80032.     19.3    28.      0.      9.1    10.2    13.8]\n",
      " [15034.     19.9    29.      5.      8.5     9.     13.5]\n",
      " [78329.     19.7    26.9     2.5     5.7     9.2    13.2]\n",
      " [53715.     18.     29.5    10.      6.2     9.     13.6]\n",
      " [72268.     17.7    14.7     0.      4.5     5.8     6.3]\n",
      " [98608.     18.8    29.      0.      6.6     7.7    11.4]\n",
      " [12240.     19.5    28.2     5.      8.8    12.2    14.2]\n",
      " [38235.     18.7    27.7    10.      7.7     6.8    15. ]\n",
      " [36756.     20.     27.3     0.      7.2     7.2    13.5]\n",
      " [98958.     20.     28.8    10.      8.4    13.     14.7]\n",
      " [73402.     19.2    29.2     7.5     5.2     7.7    14.2]\n",
      " [92712.     19.3    28.     10.      8.     15.     15. ]\n",
      " [60199.     19.7    19.5     0.      5.2     6.     12. ]\n",
      " [37342.     19.3    29.3    10.      7.3     7.2    15. ]\n",
      " [73492.     19.8    27.3     5.      8.6    10.8    13.2]\n",
      " [29288.     19.6    28.5    10.      6.5    11.8    11.1]\n",
      " [34759.     19.3    28.6    10.      7.      9.2    14.1]\n",
      " [45920.     18.3    27.7     8.5     5.9     9.3    13.6]]\n"
     ]
    }
   ],
   "source": [
    "# =============================================================================\n",
    "# Assignment: 9\n",
    "# Filename: question2.py\n",
    "# Description: Numpy assignments\n",
    "# Date: 03/08/2020\n",
    "# Author: Tarini Dash\n",
    "# =============================================================================\n",
    "\n",
    "import numpy as np\n",
    "\n",
    "\n",
    "# The main function\n",
    "def main():\n",
    "    scores = np.load(\"scores.npy\")\n",
    "    id = scores[1:,0].reshape(44,1)\n",
    "    weighted_homework = (scores[1:, 1:7].sum(axis = 1)/scores[0:1,1:7].sum(axis = 1)*20).reshape(44,1)\n",
    "    weighted_lab = (scores[1:, 7:18].sum(axis = 1)/scores[0:1,7:18].sum(axis = 1)*30).reshape(44,1)\n",
    "    weighted_final = (scores[1:,18:19]/scores[0:1,18:19]*10).reshape(44,1)\n",
    "    weighted_midterm1 = (scores[1:,19:20]/scores[0:1,19:20]*10).reshape(44,1)\n",
    "    weighted_quiz = ((scores[1:,20:29].sum(axis = 1)/scores[0:1,20:29].sum(axis = 1))*15).reshape(44,1)\n",
    "    weighted_midterm2 = ((scores[1:,-1]/scores[0:1,-1])*15).reshape(44,1)\n",
    "    score_headings = np.hstack([id,weighted_homework,weighted_lab,weighted_final,weighted_midterm1,weighted_quiz,weighted_midterm2])\n",
    "    score_headings = np.around(score_headings, decimals = 1)\n",
    "    np.set_printoptions(suppress=True)\n",
    "    print(score_headings)\n",
    "    np.save(\"score_heading\",score_headings)\n",
    "\n",
    "# invoke main function    \n",
    "main()"
   ]
  },
  {
   "cell_type": "code",
   "execution_count": null,
   "metadata": {},
   "outputs": [],
   "source": []
  },
  {
   "cell_type": "code",
   "execution_count": null,
   "metadata": {},
   "outputs": [],
   "source": []
  }
 ],
 "metadata": {
  "kernelspec": {
   "display_name": "Python 3",
   "language": "python",
   "name": "python3"
  },
  "language_info": {
   "codemirror_mode": {
    "name": "ipython",
    "version": 3
   },
   "file_extension": ".py",
   "mimetype": "text/x-python",
   "name": "python",
   "nbconvert_exporter": "python",
   "pygments_lexer": "ipython3",
   "version": "3.7.6"
  }
 },
 "nbformat": 4,
 "nbformat_minor": 4
}
