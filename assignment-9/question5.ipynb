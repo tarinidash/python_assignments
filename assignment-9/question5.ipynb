{
 "cells": [
  {
   "cell_type": "code",
   "execution_count": 1,
   "metadata": {},
   "outputs": [
    {
     "name": "stdout",
     "output_type": "stream",
     "text": [
      "Homework average:   88.9\n",
      "Lab average:        94.0\n",
      "Quiz average:       6.1\n",
      "Final project avg:  77.2\n",
      "Midterm 1 average:  69.6\n",
      "Midterm 2 average:  79.4\n"
     ]
    }
   ],
   "source": [
    "# =============================================================================\n",
    "# Assignment: 9\n",
    "# Filename: question5.py\n",
    "# Description: Numpy assignments\n",
    "# Date: 03/08/2020\n",
    "# Author: Tarini Dash\n",
    "# =============================================================================\n",
    "\n",
    "import numpy as np\n",
    "\n",
    "\n",
    "# The main function\n",
    "def main():\n",
    "    scores = np.load(\"scores.npy\")\n",
    "    print(\"Homework average:  \",np.around(np.mean(scores[1:,1:7]), decimals = 1))\n",
    "    print(\"Lab average:       \",np.around(np.mean(scores[1:,7:18]), decimals = 1))\n",
    "    print(\"Quiz average:      \",np.around(np.mean(scores[1:,20:29]), decimals = 1))\n",
    "    print(\"Final project avg: \",np.around(np.mean(scores[1:,18], axis = 0), decimals = 1))\n",
    "    print(\"Midterm 1 average: \",np.around(np.mean(scores[1:,19], axis = 0), decimals = 1))\n",
    "    print(\"Midterm 2 average: \",np.around(np.mean(scores[1:,29], axis = 0), decimals = 1))\n",
    "    \n",
    "\n",
    "# invoke main function    \n",
    "main()"
   ]
  },
  {
   "cell_type": "code",
   "execution_count": null,
   "metadata": {},
   "outputs": [],
   "source": []
  }
 ],
 "metadata": {
  "kernelspec": {
   "display_name": "Python 3",
   "language": "python",
   "name": "python3"
  },
  "language_info": {
   "codemirror_mode": {
    "name": "ipython",
    "version": 3
   },
   "file_extension": ".py",
   "mimetype": "text/x-python",
   "name": "python",
   "nbconvert_exporter": "python",
   "pygments_lexer": "ipython3",
   "version": "3.7.6"
  }
 },
 "nbformat": 4,
 "nbformat_minor": 4
}
