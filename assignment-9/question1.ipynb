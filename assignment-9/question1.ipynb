{
 "cells": [
  {
   "cell_type": "code",
   "execution_count": 29,
   "metadata": {},
   "outputs": [
    {
     "name": "stdout",
     "output_type": "stream",
     "text": [
      "[[    0   100   100 ...    10    10   100]\n",
      " [49647    90   100 ...     2     6    89]\n",
      " [49865   100    70 ...     1     7    73]\n",
      " ...\n",
      " [29288   100    90 ...    10    10    74]\n",
      " [34759   100    90 ...     8     9    94]\n",
      " [45920    85    85 ...     0    10    91]]\n"
     ]
    }
   ],
   "source": [
    "# =============================================================================\n",
    "# Assignment: 9\n",
    "# Filename: question1.py\n",
    "# Description: Numpy assignments\n",
    "# Date: 03/08/2020\n",
    "# Author: Tarini Dash\n",
    "# =============================================================================\n",
    "\n",
    "import numpy as np\n",
    "\n",
    "# The main function\n",
    "def main():\n",
    "    scores_all = genfromtxt(\"Scores_all.csv\", delimiter = \",\")\n",
    "    scores = scores_all[1:]\n",
    "    scores[np.isnan(scores)] = 0\n",
    "    scores = scores.astype(int)\n",
    "    np.save(\"scores\",scores)\n",
    "    print(scores)\n",
    "    \n",
    "# invoke main function    \n",
    "main()"
   ]
  },
  {
   "cell_type": "code",
   "execution_count": null,
   "metadata": {},
   "outputs": [],
   "source": []
  },
  {
   "cell_type": "code",
   "execution_count": null,
   "metadata": {},
   "outputs": [],
   "source": []
  }
 ],
 "metadata": {
  "kernelspec": {
   "display_name": "Python 3",
   "language": "python",
   "name": "python3"
  },
  "language_info": {
   "codemirror_mode": {
    "name": "ipython",
    "version": 3
   },
   "file_extension": ".py",
   "mimetype": "text/x-python",
   "name": "python",
   "nbconvert_exporter": "python",
   "pygments_lexer": "ipython3",
   "version": "3.7.6"
  }
 },
 "nbformat": 4,
 "nbformat_minor": 4
}
