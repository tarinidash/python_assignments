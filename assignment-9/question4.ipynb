{
 "cells": [
  {
   "cell_type": "code",
   "execution_count": 4,
   "metadata": {},
   "outputs": [
    {
     "name": "stdout",
     "output_type": "stream",
     "text": [
      "Homework 0 average:  80.0\n",
      "Homework 1 average:  88.2\n",
      "Homework 2 average:  96.4\n",
      "Homework 3 average:  89.9\n",
      "Homework 4 average:  91.0\n",
      "Homework 5 average:  87.7\n",
      "\n",
      "Lab      1 average:  98.7\n",
      "Lab      2 average:  95.1\n",
      "Lab      3 average:  97.6\n",
      "Lab      4 average:  100.0\n",
      "Lab      5 average:  94.1\n",
      "Lab      6 average:  96.0\n",
      "Lab      7 average:  89.5\n",
      "Lab      8 average:  93.9\n",
      "Lab      9 average:  83.5\n",
      "Lab      10 average:  91.8\n",
      "Lab      11 average:  93.9\n",
      "\n",
      "Quiz     1 average:  10.0\n",
      "Quiz     2 average:  5.2\n",
      "Quiz     3 average:  5.1\n",
      "Quiz     5 average:  7.0\n",
      "Quiz     6 average:  7.6\n",
      "Quiz     7 average:  3.4\n",
      "Quiz     8 average:  5.5\n",
      "Quiz     9 average:  5.2\n",
      "Quiz     10 average:  5.6\n",
      "\n",
      "Final project avg:  77.2\n",
      "Midterm 1 average:  69.6\n",
      "Midterm 2 average:  79.4\n"
     ]
    }
   ],
   "source": [
    "# =============================================================================\n",
    "# Assignment: 9\n",
    "# Filename: question4.py\n",
    "# Description: Numpy assignments\n",
    "# Date: 03/08/2020\n",
    "# Author: Tarini Dash\n",
    "# =============================================================================\n",
    "\n",
    "import numpy as np\n",
    "\n",
    "\n",
    "# The main function\n",
    "def main():\n",
    "    scores = np.load(\"scores.npy\")\n",
    "    print(\"Homework 0 average: \",np.around(np.mean(scores[1:,1], axis = 0), decimals = 1))\n",
    "    print(\"Homework 1 average: \",np.around(np.mean(scores[1:,2], axis = 0), decimals = 1))\n",
    "    print(\"Homework 2 average: \",np.around(np.mean(scores[1:,3], axis = 0), decimals = 1))\n",
    "    print(\"Homework 3 average: \",np.around(np.mean(scores[1:,4], axis = 0), decimals = 1))\n",
    "    print(\"Homework 4 average: \",np.around(np.mean(scores[1:,5], axis = 0), decimals = 1))\n",
    "    print(\"Homework 5 average: \",np.around(np.mean(scores[1:,6], axis = 0), decimals = 1))\n",
    "    print()\n",
    "    print(\"Lab      1 average: \",np.around(np.mean(scores[1:,7], axis = 0), decimals = 1))\n",
    "    print(\"Lab      2 average: \",np.around(np.mean(scores[1:,8], axis = 0), decimals = 1))\n",
    "    print(\"Lab      3 average: \",np.around(np.mean(scores[1:,9], axis = 0), decimals = 1))\n",
    "    print(\"Lab      4 average: \",np.around(np.mean(scores[1:,10], axis = 0), decimals = 1))\n",
    "    print(\"Lab      5 average: \",np.around(np.mean(scores[1:,11], axis = 0), decimals = 1))\n",
    "    print(\"Lab      6 average: \",np.around(np.mean(scores[1:,12], axis = 0), decimals = 1))\n",
    "    print(\"Lab      7 average: \",np.around(np.mean(scores[1:,13], axis = 0), decimals = 1))\n",
    "    print(\"Lab      8 average: \",np.around(np.mean(scores[1:,14], axis = 0), decimals = 1))\n",
    "    print(\"Lab      9 average: \",np.around(np.mean(scores[1:,15], axis = 0), decimals = 1))\n",
    "    print(\"Lab      10 average: \",np.around(np.mean(scores[1:,16], axis = 0), decimals = 1))\n",
    "    print(\"Lab      11 average: \",np.around(np.mean(scores[1:,17], axis = 0), decimals = 1))\n",
    "    print()\n",
    "    print(\"Quiz     1 average: \",np.around(np.mean(scores[1:,20], axis = 0), decimals = 1))\n",
    "    print(\"Quiz     2 average: \",np.around(np.mean(scores[1:,21], axis = 0), decimals = 1))\n",
    "    print(\"Quiz     3 average: \",np.around(np.mean(scores[1:,22], axis = 0), decimals = 1))\n",
    "    print(\"Quiz     5 average: \",np.around(np.mean(scores[1:,23], axis = 0), decimals = 1))\n",
    "    print(\"Quiz     6 average: \",np.around(np.mean(scores[1:,24], axis = 0), decimals = 1))\n",
    "    print(\"Quiz     7 average: \",np.around(np.mean(scores[1:,25], axis = 0), decimals = 1))\n",
    "    print(\"Quiz     8 average: \",np.around(np.mean(scores[1:,26], axis = 0), decimals = 1))\n",
    "    print(\"Quiz     9 average: \",np.around(np.mean(scores[1:,27], axis = 0), decimals = 1))\n",
    "    print(\"Quiz     10 average: \",np.around(np.mean(scores[1:,28], axis = 0), decimals = 1))\n",
    "    print()\n",
    "    print(\"Final project avg: \",np.around(np.mean(scores[1:,18], axis = 0), decimals = 1))\n",
    "    print(\"Midterm 1 average: \",np.around(np.mean(scores[1:,19], axis = 0), decimals = 1))\n",
    "    print(\"Midterm 2 average: \",np.around(np.mean(scores[1:,29], axis = 0), decimals = 1))\n",
    "\n",
    "# invoke main function    \n",
    "main()"
   ]
  },
  {
   "cell_type": "code",
   "execution_count": null,
   "metadata": {},
   "outputs": [],
   "source": []
  }
 ],
 "metadata": {
  "kernelspec": {
   "display_name": "Python 3",
   "language": "python",
   "name": "python3"
  },
  "language_info": {
   "codemirror_mode": {
    "name": "ipython",
    "version": 3
   },
   "file_extension": ".py",
   "mimetype": "text/x-python",
   "name": "python",
   "nbconvert_exporter": "python",
   "pygments_lexer": "ipython3",
   "version": "3.7.6"
  }
 },
 "nbformat": 4,
 "nbformat_minor": 4
}
