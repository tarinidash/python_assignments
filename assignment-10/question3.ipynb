{
 "cells": [
  {
   "cell_type": "code",
   "execution_count": 19,
   "metadata": {},
   "outputs": [
    {
     "name": "stdout",
     "output_type": "stream",
     "text": [
      "Program calculates sample correlation between Boeing and Coca Cola \n",
      "closing stock values in 2019.\n",
      "Average Boeing stock value:    365.03\n",
      "Std deviation of Boing stock:  24.36\n",
      "\n",
      "Average Coke stock value:      50.83\n",
      "Std deviation of Coke stock:   3.26\n",
      "\n",
      "Correlation between BA and KO: -5.26\n"
     ]
    }
   ],
   "source": [
    "# =============================================================================\n",
    "# Assignment: 10\n",
    "# Filename: question3.py\n",
    "# Description: Numpy assignments\n",
    "# Date: 03/25/2020\n",
    "# Author: Tarini Dash\n",
    "# =============================================================================\n",
    "\n",
    "import pandas as pd\n",
    "import math\n",
    "from pandas_datareader import data as web\n",
    "\n",
    "\n",
    "def cov(close1, close2):\n",
    "    total = 0\n",
    "    rows = len(close1)\n",
    "    avg_c1 = sum(close1)/rows\n",
    "    avg_c2 = sum(close2)/rows\n",
    "    for i in range(0,len(close1)):\n",
    "        total = total + ((close1[i] - avg_c1) * (close2[i] - avg_c2))\n",
    "        \n",
    "    return total/rows\n",
    "\n",
    "\n",
    "def correl(close1, close2):\n",
    "    rows = len(close1)\n",
    "    avg_c1 = sum(close1)/rows\n",
    "    avg_c2 = sum(close2)/rows\n",
    "    cor = cov(close1, close2)/std(close1) * std(close2)\n",
    "    print(\"Average Boeing stock value:   \",round(avg_c1,2))\n",
    "    print(\"Std deviation of Boing stock: \",std(close1), end = \"\\n\\n\")\n",
    "    print(\"Average Coke stock value:     \",round(avg_c2,2))\n",
    "    print(\"Std deviation of Coke stock:  \",std(close2), end = \"\\n\\n\")\n",
    "    print(\"Correlation between BA and KO:\",round(cor,2))\n",
    "    \n",
    "    \n",
    "def std(stock_data):\n",
    "    rows = len(stock_data)\n",
    "    avg = sum(stock_data)/rows\n",
    "    var = sum(pow(x-avg,2) for x in stock_data) / rows   \n",
    "    return round(math.sqrt(var),2)\n",
    "    \n",
    "    \n",
    "def main():\n",
    "    print(\"Program calculates sample correlation between Boeing and Coca Cola \\nclosing stock values in 2019.\")\n",
    "    \n",
    "    ba = web.DataReader(\"BA\", 'yahoo', '1/1/2019', '12/31/2019')\n",
    "    ba = ba.drop(['Adj Close'], axis = 1)\n",
    "    \n",
    "    ko = web.DataReader(\"KO\", 'yahoo', '1/1/2019', '12/31/2019')\n",
    "    ko = ko.drop(['Adj Close'], axis = 1)\n",
    "\n",
    "    correl(ba.Close,ko.Close)\n",
    "    \n",
    "\n",
    "#invoke main method\n",
    "if __name__ == \"__main__\":\n",
    "    main()    "
   ]
  },
  {
   "cell_type": "code",
   "execution_count": null,
   "metadata": {},
   "outputs": [],
   "source": []
  }
 ],
 "metadata": {
  "kernelspec": {
   "display_name": "Python 3",
   "language": "python",
   "name": "python3"
  },
  "language_info": {
   "codemirror_mode": {
    "name": "ipython",
    "version": 3
   },
   "file_extension": ".py",
   "mimetype": "text/x-python",
   "name": "python",
   "nbconvert_exporter": "python",
   "pygments_lexer": "ipython3",
   "version": "3.7.6"
  }
 },
 "nbformat": 4,
 "nbformat_minor": 4
}
