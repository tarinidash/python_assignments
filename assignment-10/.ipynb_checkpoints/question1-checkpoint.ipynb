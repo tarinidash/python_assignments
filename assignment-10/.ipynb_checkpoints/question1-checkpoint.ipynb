{
 "cells": [
  {
   "cell_type": "code",
   "execution_count": 1,
   "metadata": {},
   "outputs": [
    {
     "name": "stderr",
     "output_type": "stream",
     "text": [
      "/usr/local/anaconda3/lib/python3.7/site-packages/pandas_datareader/compat/__init__.py:7: FutureWarning: pandas.util.testing is deprecated. Use the functions in the public API at pandas.testing instead.\n",
      "  from pandas.util.testing import assert_frame_equal\n"
     ]
    },
    {
     "name": "stdout",
     "output_type": "stream",
     "text": [
      "Program that calculates IBM stock data statistics for year 2019.\n",
      "There are 252 rows of stock data.\n",
      "\n",
      "IBM 2016 average stock value: \t 136.99\n",
      "IBM stock variance: \t\t 37.9\n",
      "IBM stock standard deviation: \t 6.16\n",
      "\n",
      "The max stock value 151.36 was on  2019-07-26\n",
      "The min stock value 112.91 was on  2019-01-03\n"
     ]
    }
   ],
   "source": [
    "# =============================================================================\n",
    "# Assignment: 10\n",
    "# Filename: question1.py\n",
    "# Description: Numpy assignments\n",
    "# Date: 03/25/2020\n",
    "# Author: Tarini Dash\n",
    "# =============================================================================\n",
    "\n",
    "import pandas as pd\n",
    "import math\n",
    "from pandas_datareader import data as web\n",
    "\n",
    "\n",
    "def main():\n",
    "    print(\"Program that calculates IBM stock data statistics for year 2019.\")\n",
    "#         xlsx_file = pd.ExcelFile(\"stocks2019.xlsx\")\n",
    "#     df = xlsx_file.parse(\"IBM\")\n",
    "#   # drop “Adj Close”\n",
    "#     df = df.drop(['Adj Close'], axis = 1)\n",
    "\n",
    "    ibm = web.DataReader(\"IBM\", 'yahoo', '1/1/2019', '12/31/2019')\n",
    "#     df.columns.values\n",
    "    # drop “Adj Close”\n",
    "    ibm = ibm.drop(['Adj Close'], axis = 1)\n",
    "    \n",
    "    # export to csv and store locally\n",
    "    ibm.to_csv(\"ibm.csv\")\n",
    "    \n",
    "    # calculate # of rows\n",
    "    rows_num = len(ibm.index)\n",
    "    print(\"There are\" ,rows_num, \"rows of stock data.\",end=\"\\n\\n\")\n",
    "    \n",
    "    # read series Close\n",
    "    close = ibm.Close\n",
    "    \n",
    "    # calculate average close stocks\n",
    "    avg = sum(close)/rows_num\n",
    "    print(\"IBM 2016 average stock value: \\t\",round(avg,2))\n",
    "    var = sum(pow(x-avg,2) for x in close) / rows_num   \n",
    "    print(\"IBM stock variance: \\t\\t\",round(var,2))\n",
    "    print(\"IBM stock standard deviation: \\t\",round(math.sqrt(var),2),end=\"\\n\\n\")\n",
    "    print(\"The max stock value\", round(close.max(),2) ,\"was on \", close.idxmax().date())\n",
    "    print(\"The min stock value\", round(close.min(),2) ,\"was on \", close.idxmin().date())\n",
    "        \n",
    "    \n",
    "\n",
    "#invoke main method\n",
    "if __name__ == \"__main__\":\n",
    "    main()"
   ]
  },
  {
   "cell_type": "code",
   "execution_count": null,
   "metadata": {},
   "outputs": [],
   "source": []
  }
 ],
 "metadata": {
  "kernelspec": {
   "display_name": "Python 3",
   "language": "python",
   "name": "python3"
  },
  "language_info": {
   "codemirror_mode": {
    "name": "ipython",
    "version": 3
   },
   "file_extension": ".py",
   "mimetype": "text/x-python",
   "name": "python",
   "nbconvert_exporter": "python",
   "pygments_lexer": "ipython3",
   "version": "3.7.6"
  }
 },
 "nbformat": 4,
 "nbformat_minor": 4
}
