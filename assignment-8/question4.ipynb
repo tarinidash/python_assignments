{
 "cells": [
  {
   "cell_type": "code",
   "execution_count": 1,
   "metadata": {},
   "outputs": [],
   "source": [
    "# =============================================================================\n",
    "# Assignment: 8\n",
    "# Filename: question4.py\n",
    "# Description: The Program that creates a GUI window\n",
    "# Date: 03/03/2020\n",
    "# Author: Tarini Dash\n",
    "# =============================================================================\n",
    "\n",
    "from graphics import *\n",
    "\n",
    "\n",
    "def move(dx,dy,circle):\n",
    "    circle.move(dx,dy)\n",
    "    \n",
    "    \n",
    "def main():\n",
    "    win = GraphWin('Question-3', 400, 300)\n",
    "    p1 = Point(50,50)\n",
    "    p2 = Point(350,250)\n",
    "    rect = Rectangle(p1,p2)\n",
    "    rect.setOutline('black')\n",
    "    rect.draw(win)\n",
    "    r = 25\n",
    "    circle = Circle(Point(150,75),r)\n",
    "    circle.setFill('blue')\n",
    "    circle.draw(win)\n",
    "    dx = 1\n",
    "    dy = 1\n",
    "               \n",
    "    while True:\n",
    "        key = win.checkKey()\n",
    "        if (key == 'q' or key == 'Q'):\n",
    "            break\n",
    "        else:\n",
    "            move(dx,dy,circle)\n",
    "#             time.sleep(1)\n",
    "            center = circle.getCenter()\n",
    "            if ((center.getX() - r) <= 50) or ((center.getX() + r) >= 350):\n",
    "                dx = - dx\n",
    "            if ((center.getY() - r) <= 50) or ((center.getY() + r) >= 250):\n",
    "                dy = - dy\n",
    "            \n",
    "               \n",
    "    win.close()     \n",
    "                             \n",
    "\n",
    "if __name__==\"__main__\":        \n",
    "    main()"
   ]
  },
  {
   "cell_type": "code",
   "execution_count": null,
   "metadata": {},
   "outputs": [],
   "source": []
  }
 ],
 "metadata": {
  "kernelspec": {
   "display_name": "Python 3",
   "language": "python",
   "name": "python3"
  },
  "language_info": {
   "codemirror_mode": {
    "name": "ipython",
    "version": 3
   },
   "file_extension": ".py",
   "mimetype": "text/x-python",
   "name": "python",
   "nbconvert_exporter": "python",
   "pygments_lexer": "ipython3",
   "version": "3.7.6"
  }
 },
 "nbformat": 4,
 "nbformat_minor": 4
}
