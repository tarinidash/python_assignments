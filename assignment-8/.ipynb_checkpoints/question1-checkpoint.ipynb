{
 "cells": [
  {
   "cell_type": "code",
   "execution_count": 3,
   "metadata": {},
   "outputs": [],
   "source": [
    "# =============================================================================\n",
    "# Assignment: 8\n",
    "# Filename: question1.py\n",
    "# Description: The Program that creates a GUI window\n",
    "# Date: 03/03/2020\n",
    "# Author: Tarini Dash\n",
    "# =============================================================================\n",
    "from graphics import *\n",
    "\n",
    "# did not use it. used\n",
    "def delay(d):\n",
    "    for i in range(d):\n",
    "        for i in range(10000):\n",
    "            pass\n",
    "\n",
    "# function to check of the click occurred in a rectangle        \n",
    "def is_button(click, rect):\n",
    "    p1 = rect.getP1()\n",
    "    p2 = rect.getP2()\n",
    "    if (click.getX() > p1.getX()) and (click.getX() < p2.getX()):\n",
    "        if (click.getY() > p1.getY()) and (click.getY() < p2.getY()):\n",
    "            # the click is within the rectangle, return True\n",
    "            return True\n",
    "\n",
    "# The main function        \n",
    "def main():\n",
    "    count = 0\n",
    "    win = GraphWin('Question-1', 400, 300)\n",
    "    rect = Rectangle(Point(50,50), Point(350,250))\n",
    "    rect.setOutline('black')\n",
    "    rect.draw(win)\n",
    "\n",
    "    rect_1 = Rectangle(Point(100, 120), Point(175, 180))\n",
    "    rect_1.setOutline('black')\n",
    "    rect_1.setFill('yellow')\n",
    "    rect_1.draw(win)\n",
    "    \n",
    "    rect_2 = Rectangle(Point(225, 120), Point(300, 180))\n",
    "    rect_2.setOutline('black')\n",
    "    rect_2.setFill('red')\n",
    "    rect_2.draw(win)\n",
    "    text_1 = Text(Point(137,150), count).draw(win)\n",
    "    Text(Point(265,150), \"Quit\").draw(win)\n",
    "    \n",
    "    while True:\n",
    "        click = win.checkMouse()\n",
    "        if click != None:\n",
    "            if is_button(click,rect_1):\n",
    "                count += 1\n",
    "                rect_1.setFill('grey')\n",
    "                time.sleep(1)\n",
    "                rect_1.setFill('yellow')\n",
    "                text_1.setText(count)\n",
    "            elif is_button(click,rect_2):\n",
    "                break;\n",
    "    \n",
    "    win.close()\n",
    "    \n",
    "    \n",
    "main()"
   ]
  },
  {
   "cell_type": "code",
   "execution_count": null,
   "metadata": {},
   "outputs": [],
   "source": []
  },
  {
   "cell_type": "code",
   "execution_count": null,
   "metadata": {},
   "outputs": [],
   "source": []
  }
 ],
 "metadata": {
  "kernelspec": {
   "display_name": "Python 3",
   "language": "python",
   "name": "python3"
  },
  "language_info": {
   "codemirror_mode": {
    "name": "ipython",
    "version": 3
   },
   "file_extension": ".py",
   "mimetype": "text/x-python",
   "name": "python",
   "nbconvert_exporter": "python",
   "pygments_lexer": "ipython3",
   "version": "3.7.6"
  }
 },
 "nbformat": 4,
 "nbformat_minor": 4
}
