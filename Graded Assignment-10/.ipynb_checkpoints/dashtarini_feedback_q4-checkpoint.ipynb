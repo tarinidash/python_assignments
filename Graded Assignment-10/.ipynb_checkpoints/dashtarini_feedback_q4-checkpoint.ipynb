{
 "cells": [
  {
   "cell_type": "code",
   "execution_count": 1,
   "metadata": {},
   "outputs": [
    {
     "name": "stderr",
     "output_type": "stream",
     "text": [
      "/usr/local/anaconda3/lib/python3.7/site-packages/pandas_datareader/compat/__init__.py:7: FutureWarning: pandas.util.testing is deprecated. Use the functions in the public API at pandas.testing instead.\n",
      "  from pandas.util.testing import assert_frame_equal\n"
     ]
    },
    {
     "name": "stdout",
     "output_type": "stream",
     "text": [
      "Program that finds the longest period a stock was up in 2019.\n",
      "\n"
     ]
    },
    {
     "name": "stdin",
     "output_type": "stream",
     "text": [
      "Please enter the stock symbol:  ibm\n"
     ]
    },
    {
     "name": "stdout",
     "output_type": "stream",
     "text": [
      "The longest up period for the stock symbol IBM:\n",
      "Length in days:             142\n",
      "Period started on:          2019-01-04\n",
      "Close stock value at start: 117.32\n",
      "Period ended on:            2019-12-31\n",
      "Close stock value at end:   134.04\n"
     ]
    }
   ],
   "source": [
    "# =============================================================================\n",
    "# Assignment: 10\n",
    "# Filename: question4.py\n",
    "# Description: Numpy assignments\n",
    "# Date: 03/25/2020\n",
    "# Author: Tarini Dash\n",
    "# =============================================================================\n",
    "\n",
    "import pandas as pd\n",
    "import math\n",
    "from pandas_datareader import data as web\n",
    "\n",
    "\n",
    "def max_up(stock):\n",
    "    print(\"The longest up period for the stock symbol IBM:\")\n",
    "    total_days = 0\n",
    "    index_list = []\n",
    "    for i in range(0, len(stock)):\n",
    "        if stock.Close[i] > stock.Close[i-1]:\n",
    "            total_days += 1\n",
    "            index_list.append(stock.Close.index[i])\n",
    "            \n",
    "    return total_days,index_list\n",
    "    \n",
    "\n",
    "def main():\n",
    "    print(\"Program that finds the longest period a stock was up in 2019.\", end = \"\\n\\n\")\n",
    "    \n",
    "    stock_symbol = input(\"Please enter the stock symbol: \")\n",
    "    df = web.DataReader(stock_symbol, 'yahoo', '1/1/2019', '12/31/2019')\n",
    "    df = df.drop(['Adj Close'], axis = 1)\n",
    "    total_days,index_list = max_up(df)\n",
    "    print(\"Length in days:            \",total_days)\n",
    "    print(\"Period started on:         \",index_list[0].date())\n",
    "    print(\"Close stock value at start:\",round(df.Close[index_list[0]],2))\n",
    "    print(\"Period ended on:           \",index_list[-1].date())\n",
    "    print(\"Close stock value at end:  \",round(df.Close[index_list[-1]],2))\n",
    "    \n",
    "    \n",
    "\n",
    "#invoke main method\n",
    "if __name__ == \"__main__\":\n",
    "    main()"
   ]
  },
  {
   "cell_type": "code",
   "execution_count": null,
   "metadata": {},
   "outputs": [],
   "source": [
    "# SOLUTION:\n",
    "        \n",
    "# Length in days:             7\n",
    "# Period started on:          2019-03-11\n",
    "# Close stock value at start: 137.71\n",
    "# Period ended on:            2019-03-19\n",
    "# Close stock value at end:   140.49\n",
    "\n",
    "# You're supposed to prompt the user for stock symbols, but no problem, perhaps you thought that you couldn't do it\n",
    "# in a notebook but it'll work!\n",
    "\n",
    "# -3 The larger problem is your max_up up function.  Now this is a case where you do need to loop because you are counting \n",
    "# a period of time.  But what you are forgetting in your program is that you need to ask if the current number of days up\n",
    "# is greater than the revious max number of days up.  See below.\n",
    "\n",
    "# def max_up(df):\n",
    "#     # initialization\n",
    "\n",
    "#     days_up = 0\n",
    "#     max_days_up = 0\n",
    "#     start_index = 0\n",
    "    \n",
    "#     for i in range(1, len(df)):\n",
    "#         if df[\"Close\"][i] > df[\"Close\"][i-1]:\n",
    "#             days_up = days_up + 1\n",
    "#         else:\n",
    "#             if days_up > max_days_up:\n",
    "#                 max_days_up = days_up\n",
    "#                 start_index = i - max_days_up\n",
    "#             days_up = 0\n",
    "#     return max_period, start_index - 1"
   ]
  }
 ],
 "metadata": {
  "kernelspec": {
   "display_name": "Python 3",
   "language": "python",
   "name": "python3"
  },
  "language_info": {
   "codemirror_mode": {
    "name": "ipython",
    "version": 3
   },
   "file_extension": ".py",
   "mimetype": "text/x-python",
   "name": "python",
   "nbconvert_exporter": "python",
   "pygments_lexer": "ipython3",
   "version": "3.7.5"
  }
 },
 "nbformat": 4,
 "nbformat_minor": 4
}
